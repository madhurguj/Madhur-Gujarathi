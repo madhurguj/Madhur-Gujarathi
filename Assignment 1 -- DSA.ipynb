{
 "cells": [
  {
   "cell_type": "markdown",
   "metadata": {},
   "source": [
    "Q1. Write a program to find all pairs of an integer array whose sum is equal to a given number?\n"
   ]
  },
  {
   "cell_type": "code",
   "execution_count": 1,
   "metadata": {},
   "outputs": [
    {
     "name": "stdout",
     "output_type": "stream",
     "text": [
      "1 5 4 8 2 4 8 5\n",
      "enter sum: 5\n",
      "Count of pairs is :  2\n"
     ]
    }
   ],
   "source": [
    "arr = list(map(int,input().split()))\n",
    "n = len(arr)\n",
    "sum = int(input(\"enter sum: \"))\n",
    "dict = {}\n",
    "count = 0\n",
    "for i in range(n):\n",
    "    if sum - arr[i] in dict:\n",
    "        count += dict[sum - arr[i]]\n",
    "\n",
    "    if arr[i] in dict:\n",
    "        dict[arr[i]] += 1\n",
    "    else:\n",
    "        dict[arr[i]] = 1\n",
    "\n",
    "print('Count of pairs is : ', count)\n",
    "\n",
    "\n"
   ]
  },
  {
   "cell_type": "markdown",
   "metadata": {},
   "source": [
    "\n",
    "# Q2. Write a program to reverse an array in place? In place means you cannot create a new array. You have to update the original array."
   ]
  },
  {
   "cell_type": "code",
   "execution_count": 6,
   "metadata": {},
   "outputs": [
    {
     "name": "stdout",
     "output_type": "stream",
     "text": [
      "1 2 4 8 5\n",
      "Reverse : [5, 8, 4, 2, 1]\n"
     ]
    }
   ],
   "source": [
    "arr=list(map(int,input().split()))\n",
    "\n",
    "l=len(arr)\n",
    "for i in range(len(arr)//2):\n",
    "    arr[i],arr[l-1]=arr[l-1],arr[i]\n",
    "    l-=1\n",
    "print(\"Reverse :\", arr)\n",
    "    "
   ]
  },
  {
   "cell_type": "markdown",
   "metadata": {},
   "source": [
    "\n",
    "# Q3. Write a program to check if two strings are a rotation of each other?"
   ]
  },
  {
   "cell_type": "code",
   "execution_count": 11,
   "metadata": {},
   "outputs": [
    {
     "name": "stdout",
     "output_type": "stream",
     "text": [
      "ABCD\n",
      "BCDA\n",
      "Strings are rotation to each other\n"
     ]
    }
   ],
   "source": [
    "str1=input()\n",
    "str2=input()\n",
    "\n",
    "if(len(str1)!=len(str2)):\n",
    "    print(\"String are not rotation to each other\")\n",
    "else:\n",
    "    temp=str1+str2\n",
    "    if(temp.count(str1)>0):\n",
    "        print(\"Strings are rotation to each other\")\n",
    "    else:\n",
    "        print(\"String are not rotation to each other\")\n",
    "        "
   ]
  },
  {
   "cell_type": "code",
   "execution_count": null,
   "metadata": {},
   "outputs": [],
   "source": []
  },
  {
   "cell_type": "markdown",
   "metadata": {},
   "source": [
    "# Q4. Write a program to print the first non-repeated character from a string?"
   ]
  },
  {
   "cell_type": "code",
   "execution_count": 14,
   "metadata": {},
   "outputs": [
    {
     "name": "stdout",
     "output_type": "stream",
     "text": [
      "aaddhhueesbhftkmbjhfb\n",
      "1st non-repeated character is :  u\n"
     ]
    }
   ],
   "source": [
    "str1=input()\n",
    "d={}\n",
    "for i in str1:\n",
    "    if(i not in d):\n",
    "        d[i]=1\n",
    "    else:\n",
    "        d[i]+=1\n",
    "        \n",
    "for i in str1:\n",
    "    if(d[i]==1):\n",
    "        print(\"1st non-repeated character is : \",i)\n",
    "        break\n",
    "else:\n",
    "    print(\"There is no non-repeated character in given string\")\n",
    "    "
   ]
  },
  {
   "cell_type": "code",
   "execution_count": null,
   "metadata": {},
   "outputs": [],
   "source": []
  },
  {
   "cell_type": "markdown",
   "metadata": {},
   "source": [
    "# Q5. Read about the Tower of Hanoi algorithm. Write a program to implement it."
   ]
  },
  {
   "cell_type": "code",
   "execution_count": null,
   "metadata": {},
   "outputs": [],
   "source": []
  }
 ],
 "metadata": {
  "kernelspec": {
   "display_name": "Python 3",
   "language": "python",
   "name": "python3"
  },
  "language_info": {
   "codemirror_mode": {
    "name": "ipython",
    "version": 3
   },
   "file_extension": ".py",
   "mimetype": "text/x-python",
   "name": "python",
   "nbconvert_exporter": "python",
   "pygments_lexer": "ipython3",
   "version": "3.7.3"
  }
 },
 "nbformat": 4,
 "nbformat_minor": 2
}

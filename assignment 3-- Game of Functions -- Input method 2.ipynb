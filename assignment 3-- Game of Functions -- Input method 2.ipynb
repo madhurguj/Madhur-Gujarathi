{
 "cells": [
  {
   "cell_type": "markdown",
   "metadata": {},
   "source": [
    "# Write a Python function to sum all the numbers in a list.\n",
    "\n",
    "Sample List : (8, 2, 3, 0, 7)\n",
    "\n",
    "Expected Output : 20\n",
    "\n"
   ]
  },
  {
   "cell_type": "code",
   "execution_count": 6,
   "metadata": {},
   "outputs": [
    {
     "name": "stdout",
     "output_type": "stream",
     "text": [
      "20\n"
     ]
    }
   ],
   "source": [
    "def summation(arg):\n",
    "    s=0\n",
    "    for i in arg:\n",
    "        s+=i\n",
    "    return s\n",
    "\n",
    "l=[8,2,3,0,7]\n",
    "print(summation(l))\n",
    "        \n",
    "    "
   ]
  }
 ],
 "metadata": {
  "kernelspec": {
   "display_name": "Python 3",
   "language": "python",
   "name": "python3"
  },
  "language_info": {
   "codemirror_mode": {
    "name": "ipython",
    "version": 3
   },
   "file_extension": ".py",
   "mimetype": "text/x-python",
   "name": "python",
   "nbconvert_exporter": "python",
   "pygments_lexer": "ipython3",
   "version": "3.7.3"
  }
 },
 "nbformat": 4,
 "nbformat_minor": 2
}
